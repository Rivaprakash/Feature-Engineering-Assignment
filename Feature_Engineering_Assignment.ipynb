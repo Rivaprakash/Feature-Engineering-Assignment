{
  "nbformat": 4,
  "nbformat_minor": 0,
  "metadata": {
    "colab": {
      "provenance": []
    },
    "kernelspec": {
      "name": "python3",
      "display_name": "Python 3"
    },
    "language_info": {
      "name": "python"
    }
  },
  "cells": [
    {
      "cell_type": "markdown",
      "source": [
        "1. What is a parameter?\n",
        "\n",
        "Ans- In machine learning, a parameter is a variable that the model learns from the training data. These parameters define how the model makes predictions."
      ],
      "metadata": {
        "id": "JTEgLf-PzoFk"
      }
    },
    {
      "cell_type": "markdown",
      "source": [
        "2. What is correlation? What does negative correlation mean?\n",
        "\n",
        "Ans- Correlation is a statistical measure that shows the relationship between two variables. It tells us how one variable changes when the other changes.\n",
        "\n",
        "* Positive correlation: Both variables increase together (e.g., height and weight).\n",
        "\n",
        "* Negative correlation: One variable increases while the other decreases (e.g., price and demand).\n",
        "\n",
        "* No correlation: No relationship between the variables\n",
        "\n",
        "A negative correlation means that when one variable increases, the other decreases. They move in opposite directions.\n",
        "\n",
        "Example: Price & Demand: If the price of a product increases, its demand decreases."
      ],
      "metadata": {
        "id": "Knaq0y_NztLw"
      }
    },
    {
      "cell_type": "markdown",
      "source": [
        "3. Define Machine Learning. What are the main components in Machine Learning?\n",
        "\n",
        "Ans- Machine Learning (ML) is a branch of artificial intelligence (AI) that enables computers to learn from data and make decisions or predictions without being explicitly programmed.\n",
        "\n",
        "Main Components of Machine Learning:\n",
        "\n",
        "* Data: The raw information used to train the model.\n",
        "\n",
        "* Features: Important variables (independent variables) extracted from the data.\n",
        "\n",
        "* Model: An algorithm that finds patterns in the data.\n",
        "\n",
        "* Training: The process of teaching the model using labeled data.\n",
        "\n",
        "* Loss Function: Measures the difference between actual and predicted values.\n",
        "\n",
        "* Optimization Algorithm: Adjusts model parameters to minimize the error (e.g., Gradient Descent).\n",
        "\n",
        "* Evaluation: Testing the model using unseen data to measure its performance."
      ],
      "metadata": {
        "id": "CWMKRNPOzzJ7"
      }
    },
    {
      "cell_type": "markdown",
      "source": [
        "4. How does loss value help in determining whether the model is good or not?\n",
        "\n",
        "Ans- The loss value helps determine how well a machine learning model is performing. It measures the difference between the model’s predicted output and the actual output."
      ],
      "metadata": {
        "id": "u--76FCgz10B"
      }
    },
    {
      "cell_type": "markdown",
      "source": [
        "5. What are continuous and categorical variables?\n",
        "\n",
        "Ans- Continuous Variables:\n",
        "\n",
        "* It can take any numerical value within a range.\n",
        "\n",
        "* Example: Height, weight, temperature, salary.\n",
        "\n",
        "* Measured in units (e.g., meters, kilograms, dollars).\n",
        "\n",
        "Categorical Variables:\n",
        "\n",
        "* It represent groups or categories.\n",
        "\n",
        "* Example: Gender (Male/Female), Blood Type (A, B, AB, O), Payment Mode (Cash, Card).\n",
        "\n",
        "* Can be nominal (no order) or ordinal (ordered, like low/medium/high)."
      ],
      "metadata": {
        "id": "ACV8VgLiz5xh"
      }
    },
    {
      "cell_type": "markdown",
      "source": [
        "6. How do we handle categorical variables in Machine Learning? What are the common techniques?\n",
        "\n",
        "Ans- Since ML models work with numbers, categorical variables must be converted into numerical form.\n",
        "\n",
        "* Frequency Encoding:\n",
        "\n",
        "Replaces categories with their occurrence count (e.g., \"Apple\" appears 10 times → 10).\n",
        "\n",
        "* Target Encoding:\n",
        "\n",
        "Replaces categories with their mean target value (used in supervised learning).\n",
        "\n",
        "* Binary Encoding:\n",
        "\n",
        "Converts categories into binary numbers and represents them in multiple columns."
      ],
      "metadata": {
        "id": "XgmDgUubz-b7"
      }
    },
    {
      "cell_type": "markdown",
      "source": [
        "7. What do you mean by training and testing a dataset?\n",
        "\n",
        "Ans- Training Dataset:\n",
        "\n",
        "* It is used to teach the machine learning model.\n",
        "\n",
        "* The model learns patterns and relationships from this data.\n",
        "\n",
        "* Usually 70-80% of the total dataset.\n",
        "\n",
        "Testing Dataset:\n",
        "\n",
        "* It is used to evaluate the model’s performance.\n",
        "\n",
        "* It contains unseen data that checks how well the model generalizes.\n",
        "\n",
        "* Usually 20-30% of the total dataset."
      ],
      "metadata": {
        "id": "QCH4nNOn0BHx"
      }
    },
    {
      "cell_type": "markdown",
      "source": [
        "8. What is sklearn.preprocessing?\n",
        "\n",
        "Ans- sklearn.preprocessing is a module in Scikit-Learn that provides tools to transform and normalize data before training a machine learning model. It helps improve model performance by scaling and encoding features."
      ],
      "metadata": {
        "id": "skJVDp090EXA"
      }
    },
    {
      "cell_type": "markdown",
      "source": [
        "9. What is a Test set?\n",
        "\n",
        "Ans- A test set is a portion of the dataset used to evaluate the trained machine learning model. It contains unseen data that helps measure the model’s performance."
      ],
      "metadata": {
        "id": "I2rQKMYs0G2m"
      }
    },
    {
      "cell_type": "markdown",
      "source": [
        "10. How do we split data for model fitting (training and testing) in Python? How do you approach a Machine Learning problem?\n",
        "\n",
        "Ans- In Python, we use train_test_split from sklearn.model_selection to split the data.\n",
        "\n",
        "Approach to a Machine Learning Problem:\n",
        "\n",
        "Step 1: Define the Problem\n",
        "\n",
        "* Understand the objective (classification, regression, etc.).\n",
        "* Identify key metrics for evaluation.\n",
        "\n",
        "Step 2: Collect & Prepare Data\n",
        "\n",
        "* Gather data from sources (CSV, databases, APIs, etc.).\n",
        "* Handle missing values and duplicates.\n",
        "\n",
        "Step 3: Exploratory Data Analysis (EDA)\n",
        "\n",
        "* Use visualization (matplotlib, seaborn) to find patterns.\n",
        "* Identify outliers and correlations.\n",
        "\n",
        "Step 4: Preprocess Data\n",
        "\n",
        "* Encode categorical variables (OneHotEncoder, LabelEncoder).\n",
        "* Normalize/scale numerical data (StandardScaler, MinMaxScaler).\n",
        "* Split into training & testing sets (train_test_split).\n",
        "\n",
        "Step 5: Train the Model\n",
        "\n",
        "* Choose a suitable ML algorithm (Linear Regression, Random Forest, Neural Networks, etc.).\n",
        "* Train using model.fit(X_train, y_train).\n",
        "\n",
        "Step 6: Evaluate the Model\n",
        "\n",
        "* Test using model.predict(X_test).\n",
        "* Measure accuracy, RMSE, precision, recall, etc.\n",
        "\n",
        "Step 7: Optimize the Model\n",
        "\n",
        "* Tune hyperparameters (GridSearchCV, RandomizedSearchCV).\n",
        "* Handle overfitting using regularization or more data.\n",
        "\n",
        "Step 8: Deploy & Monitor\n",
        "\n",
        "* Save the model (joblib, pickle).\n",
        "* Deploy using Flask/Django or cloud services.\n",
        "* Monitor performance with real-time data."
      ],
      "metadata": {
        "id": "DdFDwi6h2nMn"
      }
    },
    {
      "cell_type": "markdown",
      "source": [
        "11. Why do we have to perform EDA before fitting a model to the data?\n",
        "\n",
        "Ans- EDA (Exploratory Data Analysis) helps understand the dataset before training a machine learning model. It ensures data quality and helps choose the right preprocessing steps.\n",
        "\n",
        "Understand Data Distribution:\n",
        "* Identify patterns, trends, and relationships in the data.\n",
        "* Check for skewness or normality in numerical features.\n",
        "\n",
        "Detect Missing Values:\n",
        "* Missing data can affect model performance.\n",
        "* Solutions: Fill missing values using mean, median, or mode.\n",
        "\n",
        "Identify Outliers:\n",
        "* Outliers can distort predictions.\n",
        "* Detect using box plots or z-scores and decide whether to remove them.\n",
        "\n",
        "Find Correlations Between Features:\n",
        "* Helps avoid multicollinearity in regression models.\n",
        "* Use correlation matrices (df.corr()) to check relationships.\n",
        "\n",
        "Categorical Data Encoding Needs:\n",
        "* Identify categorical features that need encoding (OneHotEncoder, LabelEncoder).\n",
        "\n",
        "Feature Selection:\n",
        "* Remove irrelevant or highly correlated features to improve model efficiency.\n",
        "\n",
        "Choose the Right ML Model:\n",
        "* Helps determine if a linear or non-linear model is suitable."
      ],
      "metadata": {
        "id": "23Ga7pgH2v_n"
      }
    },
    {
      "cell_type": "markdown",
      "source": [
        "12.  What is correlation?\n",
        "\n",
        "Ans- Correlation is a statistical measure that shows the relationship between two variables. It tells us how one variable changes when the other changes."
      ],
      "metadata": {
        "id": "Gs2b6Lgg2z0I"
      }
    },
    {
      "cell_type": "markdown",
      "source": [
        "13. What does negative correlation mean?\n",
        "\n",
        "Ans- A negative correlation means that when one variable increases, the other decreases. They move in opposite directions.\n",
        "\n",
        "Example: Price & Demand: If the price of a product increases, its demand decreases."
      ],
      "metadata": {
        "id": "7ReryWQF3m9c"
      }
    },
    {
      "cell_type": "code",
      "source": [
        "#14. How can you find correlation between variables in Python?\n",
        "\"\"\"\n",
        "Ans- In Python, we can find the correlation between variables using Pandas and Seaborn.\n",
        "\"\"\"\n",
        "import pandas as pd\n",
        "import seaborn as sns\n",
        "import matplotlib.pyplot as plt\n",
        "\n",
        "data = {'A': [1, 2, 3, 4, 5], 'B': [2, 4, 6, 8, 10], 'C': [5, 3, 2, 4, 1]}\n",
        "df = pd.DataFrame(data)\n",
        "\n",
        "# Compute correlation matrix\n",
        "correlation_matrix = df.corr()\n",
        "print(correlation_matrix)\n",
        "\n",
        "# Heatmap\n",
        "sns.heatmap(df.corr(), annot=True, cmap='coolwarm', fmt=\".2f\")\n",
        "plt.show()\n"
      ],
      "metadata": {
        "colab": {
          "base_uri": "https://localhost:8080/",
          "height": 504
        },
        "id": "-5aHmuve7eMv",
        "outputId": "ceb8adfc-121c-4874-d5d5-463c8780222e"
      },
      "execution_count": 3,
      "outputs": [
        {
          "output_type": "stream",
          "name": "stdout",
          "text": [
            "     A    B    C\n",
            "A  1.0  1.0 -0.7\n",
            "B  1.0  1.0 -0.7\n",
            "C -0.7 -0.7  1.0\n"
          ]
        },
        {
          "output_type": "display_data",
          "data": {
            "text/plain": [
              "<Figure size 640x480 with 2 Axes>"
            ],
            "image/png": "[encoded data removed]"
          },
          "metadata": {}
        }
      ]
    },
    {
      "cell_type": "markdown",
      "source": [
        "15. What is causation? Explain difference between correlation and causation with an example.\n",
        "\n",
        "Ans- Causation means that one event directly causes another. If A causes B, then changing A will change B.\n",
        "\n",
        "Correlation\n",
        "* A statistical relationship between two variables.\n",
        "* No proof of cause-effect.\n",
        "* Ice cream sales and drowning incidents are correlated (both increase in summer).\n",
        "\n",
        "Causation:\n",
        "* One variable directly affects the other.\n",
        "* Clear cause-effect relationship.\n",
        "* Smoking causes lung cancer (scientifically proven)"
      ],
      "metadata": {
        "id": "EyiI11gZ3ytK"
      }
    },
    {
      "cell_type": "markdown",
      "source": [
        "16. What is an Optimizer? What are different types of optimizers? Explain each with an example.\n",
        "\n",
        "Ans- An optimizer is an algorithm that adjusts a model’s parameters (weights & biases) to minimize the loss function and improve accuracy. It updates the parameters during training to find the best possible model.\n",
        "\n",
        "The different types of optimizers:\n",
        "\n",
        "-> Stochastic Gradient Descent (SGD):\n",
        "* Unlike normal gradient descent, it updates weights after each training example, making it faster but noisier.\n",
        "* Used when the dataset is very large.\n",
        "\n",
        "-> Momentum Optimizer:\n",
        "* Uses previous updates to speed up learning and reduce oscillations.\n",
        "* Example, optimizer = SGD(learning_rate=0.01, momentum=0.9)\n",
        "\n",
        "-> Adagrad (Adaptive Gradient Algorithm):\n",
        "* Adjusts learning rate for each parameter individually.\n",
        "* Suitable for sparse data but slows down over time.\n",
        "\n",
        "-> Adadelta:\n",
        "* Improves Adagrad by limiting the drop in learning rate.\n",
        "* Suitable for deep learning networks."
      ],
      "metadata": {
        "id": "t0LGGgCE35q7"
      }
    },
    {
      "cell_type": "markdown",
      "source": [
        "17. What is sklearn.linear_model?\n",
        "\n",
        "Ans- sklearn.linear_model is a module in Scikit-Learn that provides various linear models for regression and classification tasks."
      ],
      "metadata": {
        "id": "dMz1OK-C4UzS"
      }
    },
    {
      "cell_type": "markdown",
      "source": [
        "18. What does model.fit() do? What arguments must be given?\n",
        "\n",
        "Ans- The model.fit() function in Scikit-Learn trains a machine learning model on a given dataset. It adjusts the model’s parameters using the provided data to find patterns and relationships.\n",
        "\n",
        "Arguments Required in model.fit():\n",
        "* X_train → Features (independent variables).\n",
        "* y_train → Target variable (dependent variable).\n",
        "\n"
      ],
      "metadata": {
        "id": "3yxtnpTi4azN"
      }
    },
    {
      "cell_type": "markdown",
      "source": [
        "19. What does model.predict() do? What arguments must be given?\n",
        "\n",
        "Ans- The model.predict() function in Scikit-Learn is used to make predictions after a model has been trained using fit(). It takes new input data and returns predicted values based on the learned patterns.\n",
        "\n",
        "Arguments Required in model.predict():\n",
        "* X_test or X_new → The feature dataset for which predictions are needed."
      ],
      "metadata": {
        "id": "AXEclQ684iSc"
      }
    },
    {
      "cell_type": "markdown",
      "source": [
        "20. What are continuous and categorical variables?\n",
        "\n",
        "Ans- Continuous Variables:\n",
        "\n",
        "* It can take any numerical value within a range.\n",
        "\n",
        "* Example: Height, weight, temperature, salary.\n",
        "\n",
        "* Measured in units (e.g., meters, kilograms, dollars).\n",
        "\n",
        "Categorical Variables:\n",
        "\n",
        "* It represent groups or categories.\n",
        "\n",
        "* Example: Gender (Male/Female), Blood Type (A, B, AB, O), Payment Mode (Cash, Card).\n",
        "\n",
        "* Can be nominal (no order) or ordinal (ordered, like low/medium/high)."
      ],
      "metadata": {
        "id": "5dRvj_Is4lxU"
      }
    },
    {
      "cell_type": "markdown",
      "source": [
        "21. What is feature scaling? How does it help in Machine Learning?\n",
        "\n",
        "Ans- Feature scaling is the process of normalizing or standardizing numerical features so that they have the same scale. This helps machine learning models perform better and converge faster.\n",
        "\n",
        "It helps in Machine Learning:\n",
        "* Improves Model Performance → Some models (e.g., SVM, KNN) are sensitive to different feature scales.\n",
        "* Faster Convergence → Gradient-based algorithms (e.g., Gradient Descent) work better with scaled data.\n",
        "* Avoids Bias Toward Large Values → Prevents features with larger magnitudes from dominating others."
      ],
      "metadata": {
        "id": "471y3ac14q_y"
      }
    },
    {
      "cell_type": "markdown",
      "source": [
        "22. How do we perform scaling in Python?\n",
        "\n",
        "Ans- In Python, we use Scikit-Learn’s sklearn.preprocessing module to scale numerical features. The most common scaling techniques are Standardization, Min-Max Scaling, and Robust Scaling.\n",
        "\n",
        "Standardization (Z-score Scaling):\n",
        "* Centers the data around 0 with a standard deviation of 1.\n",
        "* Best for models that assume normally distributed data.\n",
        "\n",
        "Min-Max Scaling (Normalization):\n",
        "* Scales data to a fixed range [0,1].\n",
        "* Useful for models like Neural Networks, KNN, SVM\n",
        "\n",
        "Robust Scaling (Handles Outliers):\n",
        "* Uses median and IQR, making it resistant to outliers."
      ],
      "metadata": {
        "id": "SF0Oi5zf4v4X"
      }
    },
    {
      "cell_type": "markdown",
      "source": [
        "23. What is sklearn.preprocessing?\n",
        "\n",
        "Ans- sklearn.preprocessing is a module in Scikit-Learn that provides tools to transform and normalize data before training a machine learning model. It helps improve model performance by scaling and encoding features."
      ],
      "metadata": {
        "id": "uGvSiFPx40h6"
      }
    },
    {
      "cell_type": "markdown",
      "source": [
        "24. How do we split data for model fitting (training and testing) in Python?\n",
        "\n",
        "Ans- In Scikit-Learn, we use train_test_split() to split data into training and testing sets. This ensures that the model is trained on one part of the data and evaluated on another to check its performance."
      ],
      "metadata": {
        "id": "vNYSMF7D480R"
      }
    },
    {
      "cell_type": "markdown",
      "source": [
        "25. Explain data encoding?\n",
        "\n",
        "Ans- Data encoding is the process of converting categorical variables into numerical format so that machine learning models can process them. Since most models work with numbers, categorical data must be transformed into numerical values."
      ],
      "metadata": {
        "id": "PF99GRW05EZD"
      }
    }
  ]
}